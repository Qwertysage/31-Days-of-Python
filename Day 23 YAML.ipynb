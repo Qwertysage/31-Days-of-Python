{
  "nbformat": 4,
  "nbformat_minor": 0,
  "metadata": {
    "colab": {
      "provenance": [],
      "authorship_tag": "ABX9TyPS446XynOP4cDs/avlckZN",
      "include_colab_link": true
    },
    "kernelspec": {
      "name": "python3",
      "display_name": "Python 3"
    },
    "language_info": {
      "name": "python"
    }
  },
  "cells": [
    {
      "cell_type": "markdown",
      "metadata": {
        "id": "view-in-github",
        "colab_type": "text"
      },
      "source": [
        "<a href=\"https://colab.research.google.com/github/Qwertysage/31-Days-of-Python/blob/main/Day%2023%20YAML.ipynb\" target=\"_parent\"><img src=\"https://colab.research.google.com/assets/colab-badge.svg\" alt=\"Open In Colab\"/></a>"
      ]
    },
    {
      "cell_type": "code",
      "source": [
        "!pip install pyyaml"
      ],
      "metadata": {
        "colab": {
          "base_uri": "https://localhost:8080/"
        },
        "id": "nOgPX4dkjCd9",
        "outputId": "b28bcd14-3c2b-43b9-8741-a93a940bcf65"
      },
      "execution_count": 35,
      "outputs": [
        {
          "output_type": "stream",
          "name": "stdout",
          "text": [
            "Requirement already satisfied: pyyaml in /usr/local/lib/python3.10/dist-packages (6.0.1)\n"
          ]
        }
      ]
    },
    {
      "cell_type": "code",
      "execution_count": 36,
      "metadata": {
        "id": "o2PXz8F7a_N1"
      },
      "outputs": [],
      "source": [
        "import yaml\n",
        "from pprint import pprint as print"
      ]
    },
    {
      "cell_type": "markdown",
      "source": [
        "## Convert YAML to Dict\n"
      ],
      "metadata": {
        "id": "TwhL6wmHcmxG"
      }
    },
    {
      "cell_type": "code",
      "source": [
        "yaml_str = \"\"\"\n",
        "dictPersons:\n",
        "- age: 52\n",
        "  gpa: 3.4\n",
        "  hasGraduated: true\n",
        "  isEnrolled: false\n",
        "  name: Mike\n",
        "  tuitionBalance: null\n",
        "- age: 19\n",
        "  gpa: 2.9\n",
        "  hasGraduated: true\n",
        "  isEnrolled: true\n",
        "  name: Larry\n",
        "  tuitionBalance: 135000.55\n",
        "- age: 23\n",
        "  gpa: 3.7\n",
        "  hasGraduated: false\n",
        "  isEnrolled: true\n",
        "  name: Ashley\n",
        "  tuitionBalance: 0.0\n",
        "\"\"\""
      ],
      "metadata": {
        "id": "mynSP8eNlMcO"
      },
      "execution_count": 37,
      "outputs": []
    },
    {
      "cell_type": "code",
      "source": [
        "a = yaml.safe_load(yaml_str)\n",
        "## safe load function can accept a string or a file\n",
        "print(a, indent=2)\n",
        "type(a)"
      ],
      "metadata": {
        "colab": {
          "base_uri": "https://localhost:8080/"
        },
        "id": "LNxa4D0KsK7d",
        "outputId": "e8ae3584-cf73-426b-cea2-e2aa04d48653"
      },
      "execution_count": 38,
      "outputs": [
        {
          "output_type": "stream",
          "name": "stdout",
          "text": [
            "{ 'dictPersons': [ { 'age': 52,\n",
            "                     'gpa': 3.4,\n",
            "                     'hasGraduated': True,\n",
            "                     'isEnrolled': False,\n",
            "                     'name': 'Mike',\n",
            "                     'tuitionBalance': None},\n",
            "                   { 'age': 19,\n",
            "                     'gpa': 2.9,\n",
            "                     'hasGraduated': True,\n",
            "                     'isEnrolled': True,\n",
            "                     'name': 'Larry',\n",
            "                     'tuitionBalance': 135000.55},\n",
            "                   { 'age': 23,\n",
            "                     'gpa': 3.7,\n",
            "                     'hasGraduated': False,\n",
            "                     'isEnrolled': True,\n",
            "                     'name': 'Ashley',\n",
            "                     'tuitionBalance': 0.0}]}\n"
          ]
        },
        {
          "output_type": "execute_result",
          "data": {
            "text/plain": [
              "dict"
            ]
          },
          "metadata": {},
          "execution_count": 38
        }
      ]
    },
    {
      "cell_type": "code",
      "source": [
        "print(a['dictPersons'][0][\"name\"])"
      ],
      "metadata": {
        "colab": {
          "base_uri": "https://localhost:8080/"
        },
        "id": "I0xGOb86tef2",
        "outputId": "bc4f2164-d560-4c9d-aafa-ddb966e4ea17"
      },
      "execution_count": 40,
      "outputs": [
        {
          "output_type": "stream",
          "name": "stdout",
          "text": [
            "'Mike'\n"
          ]
        }
      ]
    },
    {
      "cell_type": "markdown",
      "source": [
        "## Convert Dict to YAML"
      ],
      "metadata": {
        "id": "LqG_Gyrpzew0"
      }
    },
    {
      "cell_type": "code",
      "source": [
        "a = yaml.dump(a)\n",
        "print(a)\n",
        "type(a)"
      ],
      "metadata": {
        "colab": {
          "base_uri": "https://localhost:8080/"
        },
        "id": "nf-44RTVsMb_",
        "outputId": "5ebaad2f-f180-4fc5-889a-07582204f5e9"
      },
      "execution_count": 41,
      "outputs": [
        {
          "output_type": "stream",
          "name": "stdout",
          "text": [
            "('dictPersons:\\n'\n",
            " '- age: 52\\n'\n",
            " '  gpa: 3.4\\n'\n",
            " '  hasGraduated: true\\n'\n",
            " '  isEnrolled: false\\n'\n",
            " '  name: Mike\\n'\n",
            " '  tuitionBalance: null\\n'\n",
            " '- age: 19\\n'\n",
            " '  gpa: 2.9\\n'\n",
            " '  hasGraduated: true\\n'\n",
            " '  isEnrolled: true\\n'\n",
            " '  name: Larry\\n'\n",
            " '  tuitionBalance: 135000.55\\n'\n",
            " '- age: 23\\n'\n",
            " '  gpa: 3.7\\n'\n",
            " '  hasGraduated: false\\n'\n",
            " '  isEnrolled: true\\n'\n",
            " '  name: Ashley\\n'\n",
            " '  tuitionBalance: 0.0\\n')\n"
          ]
        },
        {
          "output_type": "execute_result",
          "data": {
            "text/plain": [
              "str"
            ]
          },
          "metadata": {},
          "execution_count": 41
        }
      ]
    },
    {
      "cell_type": "code",
      "source": [
        "for x in a.splitlines():\n",
        "  print(f'{x}')"
      ],
      "metadata": {
        "id": "dv9fK2Eavclp",
        "colab": {
          "base_uri": "https://localhost:8080/"
        },
        "outputId": "ff6c4bc6-8e00-4418-d2e7-c8872a7e1c55"
      },
      "execution_count": 42,
      "outputs": [
        {
          "output_type": "stream",
          "name": "stdout",
          "text": [
            "'dictPersons:'\n",
            "'- age: 52'\n",
            "'  gpa: 3.4'\n",
            "'  hasGraduated: true'\n",
            "'  isEnrolled: false'\n",
            "'  name: Mike'\n",
            "'  tuitionBalance: null'\n",
            "'- age: 19'\n",
            "'  gpa: 2.9'\n",
            "'  hasGraduated: true'\n",
            "'  isEnrolled: true'\n",
            "'  name: Larry'\n",
            "'  tuitionBalance: 135000.55'\n",
            "'- age: 23'\n",
            "'  gpa: 3.7'\n",
            "'  hasGraduated: false'\n",
            "'  isEnrolled: true'\n",
            "'  name: Ashley'\n",
            "'  tuitionBalance: 0.0'\n"
          ]
        }
      ]
    },
    {
      "cell_type": "code",
      "source": [],
      "metadata": {
        "id": "a_MUmtETmzrq"
      },
      "execution_count": null,
      "outputs": []
    }
  ]
}