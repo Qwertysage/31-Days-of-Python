{
  "nbformat": 4,
  "nbformat_minor": 0,
  "metadata": {
    "colab": {
      "provenance": [],
      "authorship_tag": "ABX9TyOykO7NX5AncANZ+otMwXKU",
      "include_colab_link": true
    },
    "kernelspec": {
      "name": "python3",
      "display_name": "Python 3"
    },
    "language_info": {
      "name": "python"
    }
  },
  "cells": [
    {
      "cell_type": "markdown",
      "metadata": {
        "id": "view-in-github",
        "colab_type": "text"
      },
      "source": [
        "<a href=\"https://colab.research.google.com/github/Qwertysage/31-Days-of-Python/blob/main/Day%2024%20XML.ipynb\" target=\"_parent\"><img src=\"https://colab.research.google.com/assets/colab-badge.svg\" alt=\"Open In Colab\"/></a>"
      ]
    },
    {
      "cell_type": "code",
      "source": [
        "!pip install xmltodict"
      ],
      "metadata": {
        "id": "nOgPX4dkjCd9"
      },
      "execution_count": null,
      "outputs": []
    },
    {
      "cell_type": "code",
      "execution_count": null,
      "metadata": {
        "id": "o2PXz8F7a_N1"
      },
      "outputs": [],
      "source": [
        "import xmltodict\n",
        "from pprint import pprint as print"
      ]
    },
    {
      "cell_type": "code",
      "source": [
        "my_dict = {\n",
        "    'Students': [{\n",
        "        'Jack':{\n",
        "            '@brokecrown': True,\n",
        "            '#text': 'Went up hill'\n",
        "        },\n",
        "        'Jill':{\n",
        "            '@brokecrown': False,\n",
        "            '#text': 'Tumbled after'\n",
        "        }\n",
        "    }]\n",
        "}\n",
        "\n",
        "my_xml = \"\"\"<?xml version=\"1.0\" encoding=\"utf-8\"?>\n",
        "<Students>\n",
        "      <Jack brokecrown=\"True\">Went up hill</Jack>\n",
        "      <Jill brokecrown=\"False\">Tumbled after</Jill>\n",
        "</Students>\n",
        "\"\"\""
      ],
      "metadata": {
        "id": "2Vos_qAQDYf_"
      },
      "execution_count": null,
      "outputs": []
    },
    {
      "cell_type": "markdown",
      "source": [
        "## Convert XML to Dict\n"
      ],
      "metadata": {
        "id": "TwhL6wmHcmxG"
      }
    },
    {
      "cell_type": "code",
      "source": [
        "my_dict = xmltodict.parse(my_xml)\n",
        "print(my_dict, indent=2)"
      ],
      "metadata": {
        "id": "LNxa4D0KsK7d"
      },
      "execution_count": null,
      "outputs": []
    },
    {
      "cell_type": "markdown",
      "source": [
        "## Convert Dict to XML"
      ],
      "metadata": {
        "id": "LqG_Gyrpzew0"
      }
    },
    {
      "cell_type": "code",
      "source": [
        "xml_string = xmltodict.unparse(my_dict)\n",
        "print(xml_string, indent=2)"
      ],
      "metadata": {
        "id": "nf-44RTVsMb_"
      },
      "execution_count": null,
      "outputs": []
    },
    {
      "cell_type": "code",
      "source": [],
      "metadata": {
        "id": "a_MUmtETmzrq"
      },
      "execution_count": null,
      "outputs": []
    }
  ]
}